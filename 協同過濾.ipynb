{
 "cells": [
  {
   "cell_type": "code",
   "execution_count": 2,
   "metadata": {},
   "outputs": [],
   "source": [
    "import numpy as np\n",
    "import pandas as pd"
   ]
  },
  {
   "cell_type": "code",
   "execution_count": 3,
   "metadata": {},
   "outputs": [
    {
     "data": {
      "text/html": [
       "<div>\n",
       "<style scoped>\n",
       "    .dataframe tbody tr th:only-of-type {\n",
       "        vertical-align: middle;\n",
       "    }\n",
       "\n",
       "    .dataframe tbody tr th {\n",
       "        vertical-align: top;\n",
       "    }\n",
       "\n",
       "    .dataframe thead th {\n",
       "        text-align: right;\n",
       "    }\n",
       "</style>\n",
       "<table border=\"1\" class=\"dataframe\">\n",
       "  <thead>\n",
       "    <tr style=\"text-align: right;\">\n",
       "      <th></th>\n",
       "      <th>userId</th>\n",
       "      <th>movieId</th>\n",
       "      <th>rating</th>\n",
       "      <th>timestamp</th>\n",
       "    </tr>\n",
       "  </thead>\n",
       "  <tbody>\n",
       "    <tr>\n",
       "      <th>0</th>\n",
       "      <td>1</td>\n",
       "      <td>31</td>\n",
       "      <td>2.5</td>\n",
       "      <td>1260759144</td>\n",
       "    </tr>\n",
       "    <tr>\n",
       "      <th>1</th>\n",
       "      <td>1</td>\n",
       "      <td>1029</td>\n",
       "      <td>3.0</td>\n",
       "      <td>1260759179</td>\n",
       "    </tr>\n",
       "    <tr>\n",
       "      <th>2</th>\n",
       "      <td>1</td>\n",
       "      <td>1061</td>\n",
       "      <td>3.0</td>\n",
       "      <td>1260759182</td>\n",
       "    </tr>\n",
       "    <tr>\n",
       "      <th>3</th>\n",
       "      <td>1</td>\n",
       "      <td>1129</td>\n",
       "      <td>2.0</td>\n",
       "      <td>1260759185</td>\n",
       "    </tr>\n",
       "    <tr>\n",
       "      <th>4</th>\n",
       "      <td>1</td>\n",
       "      <td>1172</td>\n",
       "      <td>4.0</td>\n",
       "      <td>1260759205</td>\n",
       "    </tr>\n",
       "  </tbody>\n",
       "</table>\n",
       "</div>"
      ],
      "text/plain": [
       "   userId  movieId  rating   timestamp\n",
       "0       1       31     2.5  1260759144\n",
       "1       1     1029     3.0  1260759179\n",
       "2       1     1061     3.0  1260759182\n",
       "3       1     1129     2.0  1260759185\n",
       "4       1     1172     4.0  1260759205"
      ]
     },
     "execution_count": 3,
     "metadata": {},
     "output_type": "execute_result"
    }
   ],
   "source": [
    "rating_df = pd.read_csv('D:\\\\Jupyter notebook\\\\ratings_small.csv')\n",
    "rating_df.head()"
   ]
  },
  {
   "cell_type": "markdown",
   "metadata": {},
   "source": [
    "看看這個資料有多大"
   ]
  },
  {
   "cell_type": "code",
   "execution_count": 76,
   "metadata": {},
   "outputs": [
    {
     "data": {
      "text/plain": [
       "(100004, 4)"
      ]
     },
     "execution_count": 76,
     "metadata": {},
     "output_type": "execute_result"
    }
   ],
   "source": [
    "rating_df.shape"
   ]
  },
  {
   "cell_type": "markdown",
   "metadata": {},
   "source": [
    "看看這個資料有多少不同的值"
   ]
  },
  {
   "cell_type": "code",
   "execution_count": 85,
   "metadata": {},
   "outputs": [
    {
     "data": {
      "text/plain": [
       "<bound method DataFrame.nunique of        userId  movieId  rating   timestamp\n",
       "52635     383       21     3.0   789652009\n",
       "52641     383       47     5.0   789652009\n",
       "52684     383     1079     3.0   789652009\n",
       "56907     409       21     5.0   828212412\n",
       "56909     409       25     4.0   828212412\n",
       "...       ...      ...     ...         ...\n",
       "35125     251    56587     5.0  1476623131\n",
       "35172     251   134853     5.0  1476623217\n",
       "35140     251    81847     4.5  1476623282\n",
       "35096     251     6377     4.5  1476623300\n",
       "35069     251     1704     4.5  1476640644\n",
       "\n",
       "[100004 rows x 4 columns]>"
      ]
     },
     "execution_count": 85,
     "metadata": {},
     "output_type": "execute_result"
    }
   ],
   "source": [
    "rating_df.nunique"
   ]
  },
  {
   "cell_type": "markdown",
   "metadata": {},
   "source": [
    "切分成訓練集跟測試集\n",
    "排序前面當訓練集，排序後面當測試集\n",
    "timestamp是用時間排序的意思"
   ]
  },
  {
   "cell_type": "code",
   "execution_count": 86,
   "metadata": {},
   "outputs": [
    {
     "data": {
      "text/html": [
       "<div>\n",
       "<style scoped>\n",
       "    .dataframe tbody tr th:only-of-type {\n",
       "        vertical-align: middle;\n",
       "    }\n",
       "\n",
       "    .dataframe tbody tr th {\n",
       "        vertical-align: top;\n",
       "    }\n",
       "\n",
       "    .dataframe thead th {\n",
       "        text-align: right;\n",
       "    }\n",
       "</style>\n",
       "<table border=\"1\" class=\"dataframe\">\n",
       "  <thead>\n",
       "    <tr style=\"text-align: right;\">\n",
       "      <th></th>\n",
       "      <th>userId</th>\n",
       "      <th>movieId</th>\n",
       "      <th>rating</th>\n",
       "      <th>timestamp</th>\n",
       "    </tr>\n",
       "  </thead>\n",
       "  <tbody>\n",
       "    <tr>\n",
       "      <th>52635</th>\n",
       "      <td>383</td>\n",
       "      <td>21</td>\n",
       "      <td>3.0</td>\n",
       "      <td>789652009</td>\n",
       "    </tr>\n",
       "    <tr>\n",
       "      <th>52641</th>\n",
       "      <td>383</td>\n",
       "      <td>47</td>\n",
       "      <td>5.0</td>\n",
       "      <td>789652009</td>\n",
       "    </tr>\n",
       "    <tr>\n",
       "      <th>52684</th>\n",
       "      <td>383</td>\n",
       "      <td>1079</td>\n",
       "      <td>3.0</td>\n",
       "      <td>789652009</td>\n",
       "    </tr>\n",
       "    <tr>\n",
       "      <th>56917</th>\n",
       "      <td>409</td>\n",
       "      <td>85</td>\n",
       "      <td>5.0</td>\n",
       "      <td>828212412</td>\n",
       "    </tr>\n",
       "    <tr>\n",
       "      <th>56913</th>\n",
       "      <td>409</td>\n",
       "      <td>35</td>\n",
       "      <td>4.0</td>\n",
       "      <td>828212412</td>\n",
       "    </tr>\n",
       "  </tbody>\n",
       "</table>\n",
       "</div>"
      ],
      "text/plain": [
       "       userId  movieId  rating  timestamp\n",
       "52635     383       21     3.0  789652009\n",
       "52641     383       47     5.0  789652009\n",
       "52684     383     1079     3.0  789652009\n",
       "56917     409       85     5.0  828212412\n",
       "56913     409       35     4.0  828212412"
      ]
     },
     "execution_count": 86,
     "metadata": {},
     "output_type": "execute_result"
    }
   ],
   "source": [
    "rating_df = rating_df.sort_values('timestamp')\n",
    "rating_df.head()"
   ]
  },
  {
   "cell_type": "markdown",
   "metadata": {},
   "source": [
    "建造使用者對電影的評分矩陣\n",
    "LabelEncoder一個list裡面不同的值對應到不同的連續整數"
   ]
  },
  {
   "cell_type": "code",
   "execution_count": 92,
   "metadata": {},
   "outputs": [],
   "source": [
    "from sklearn.preprocessing import LabelEncoder\n",
    "user_encoder = LabelEncoder()\n",
    "movie_encoder = LabelEncoder()\n",
    "\n",
    "user_ids = user_encoder.fit_transform(rating_df.userId)\n",
    "movie_ids = movie_encoder.fit_transform(rating_df.movieId)"
   ]
  },
  {
   "cell_type": "markdown",
   "metadata": {},
   "source": [
    "將總共的數據取8成當作訓練的數據\n",
    "num_train訓練數量"
   ]
  },
  {
   "cell_type": "code",
   "execution_count": 93,
   "metadata": {},
   "outputs": [
    {
     "data": {
      "text/plain": [
       "80003"
      ]
     },
     "execution_count": 93,
     "metadata": {},
     "output_type": "execute_result"
    }
   ],
   "source": [
    "num_train = int(len(user_ids) * 0.8)\n",
    "num_train"
   ]
  },
  {
   "cell_type": "code",
   "execution_count": 94,
   "metadata": {},
   "outputs": [
    {
     "data": {
      "text/plain": [
       "((80003,), (80003,), (80003,), (20001,), (20001,), (20001,))"
      ]
     },
     "execution_count": 94,
     "metadata": {},
     "output_type": "execute_result"
    }
   ],
   "source": [
    "train_user_ids = user_ids[:num_train]\n",
    "train_movie_ids = movie_ids[:num_train]\n",
    "train_ratings = rating_df.rating.values[:num_train]\n",
    "val_user_ids = user_ids[num_train:]\n",
    "val_movie_ids = movie_ids[num_train:]\n",
    "val_ratings = rating_df.rating.values[num_train:]\n",
    "train_user_ids.shape,train_movie_ids.shape,train_ratings.shape,val_user_ids.shape, val_movie_ids.shape, val_ratings.shape,"
   ]
  },
  {
   "cell_type": "markdown",
   "metadata": {},
   "source": [
    "製作使用者跟電影的評分矩陣user2movie\n",
    "num_users = user_ids.max() + 1=>總使用者數量\n",
    "num_movies = movie_ids.max() + 1=>總電影數量"
   ]
  },
  {
   "cell_type": "code",
   "execution_count": 95,
   "metadata": {},
   "outputs": [
    {
     "data": {
      "text/plain": [
       "array([[0., 0., 0., ..., 0., 0., 0.],\n",
       "       [0., 0., 0., ..., 0., 0., 0.],\n",
       "       [0., 0., 0., ..., 0., 0., 0.],\n",
       "       ...,\n",
       "       [0., 0., 0., ..., 0., 0., 0.],\n",
       "       [4., 0., 0., ..., 0., 0., 0.],\n",
       "       [5., 0., 0., ..., 0., 0., 0.]])"
      ]
     },
     "execution_count": 95,
     "metadata": {},
     "output_type": "execute_result"
    }
   ],
   "source": [
    "num_users = user_ids.max() + 1\n",
    "num_movies = movie_ids.max() + 1\n",
    "user2movie = np.zeros([num_users, num_movies])\n",
    "user2movie[train_user_ids, train_movie_ids] = train_ratings\n",
    "user2movie"
   ]
  },
  {
   "cell_type": "markdown",
   "metadata": {},
   "source": [
    "compute_user_similarity 計算使用者間相似度\n",
    "pearson_correlation(x,y) x跟y分別是使用者對於兩個不同電影的偏好向量"
   ]
  },
  {
   "cell_type": "code",
   "execution_count": 96,
   "metadata": {},
   "outputs": [
    {
     "name": "stderr",
     "output_type": "stream",
     "text": [
      "C:\\Users\\User\\miniconda3\\envs\\py36\\lib\\site-packages\\ipykernel_launcher.py:23: RuntimeWarning: invalid value encountered in double_scalars\n",
      "C:\\Users\\User\\miniconda3\\envs\\py36\\lib\\site-packages\\ipykernel_launcher.py:18: RuntimeWarning: invalid value encountered in true_divide\n"
     ]
    },
    {
     "data": {
      "text/plain": [
       "array([[ 1., nan, nan, ...,  1., nan, -1.],\n",
       "       [nan,  0.,  0., ...,  0.,  0.,  0.],\n",
       "       [nan,  0.,  0., ...,  0.,  0.,  0.],\n",
       "       ...,\n",
       "       [nan,  0.,  0., ...,  0.,  0.,  0.],\n",
       "       [ 1.,  0.,  0., ...,  0.,  0.,  0.],\n",
       "       [nan,  0.,  0., ...,  0.,  0.,  0.]])"
      ]
     },
     "execution_count": 96,
     "metadata": {},
     "output_type": "execute_result"
    }
   ],
   "source": [
    "def compute_user_similarity_matrix(user2movie):\n",
    "    similarity_matrix = np.zeros([num_users, num_users])\n",
    "    for i in range(num_users):\n",
    "        for j in range(i, num_users):\n",
    "            \n",
    "            corr = pearson_correlation(user2movie[i], user2movie[j])\n",
    "            \n",
    "            similarity_matrix[i,j] = corr\n",
    "            similarity_matrix[j,i] = corr\n",
    "        \n",
    "        return similarity_matrix\n",
    "    \n",
    "def pearson_correlation(x,y):\n",
    "    \n",
    "    filt = (x!=0) * (y!=0)\n",
    "    \n",
    "    x_mean = x.sum() / x[x!=0].shape\n",
    "    y_mean = y.sum() / y[y!=0].shape\n",
    "    \n",
    "    x = x[filt]\n",
    "    y = y[filt]\n",
    "    \n",
    "    corr = np.sum((x - x_mean) * (y - y_mean)) / (np.sum((y-y_mean) **2) * np.sum((x-x_mean) ** 2)) **0.5\n",
    "    \n",
    "    return corr\n",
    "similarity_matrix = compute_user_similarity_matrix(user2movie)\n",
    "similarity_matrix[:10]"
   ]
  },
  {
   "cell_type": "markdown",
   "metadata": {},
   "source": [
    "把NAN去除"
   ]
  },
  {
   "cell_type": "code",
   "execution_count": 98,
   "metadata": {},
   "outputs": [
    {
     "data": {
      "text/plain": [
       "array([[ 0.        ,  0.        ,  0.        , ...,  1.        ,\n",
       "         0.        , -1.        ],\n",
       "       [ 0.        ,  0.        , -0.01606095, ..., -0.95740201,\n",
       "        -0.49446359,  0.57048961],\n",
       "       [ 0.        , -0.01606095,  0.        , ...,  0.97327676,\n",
       "        -0.08336072,  0.52261992],\n",
       "       ...,\n",
       "       [ 0.        ,  0.3103714 ,  0.13950249, ..., -0.44308725,\n",
       "         0.4618251 ,  0.08969916],\n",
       "       [ 1.        ,  0.1755357 , -0.37364627, ...,  1.        ,\n",
       "         0.42145455,  0.40640584],\n",
       "       [ 0.        , -0.16227767,  0.59686456, ..., -0.37286939,\n",
       "        -0.02181995,  0.50435832]])"
      ]
     },
     "execution_count": 98,
     "metadata": {},
     "output_type": "execute_result"
    }
   ],
   "source": [
    "similarity_matrix[np.arange(num_users), np.arange(num_users)] = 0\n",
    "similarity_matrix[np.isnan(similarity_matrix)] = 0\n",
    "similarity_matrix[:10]"
   ]
  },
  {
   "cell_type": "markdown",
   "metadata": {},
   "source": [
    "user base協同過濾\n",
    "\n",
    "expand_dims 把一維變二維"
   ]
  },
  {
   "cell_type": "code",
   "execution_count": 99,
   "metadata": {},
   "outputs": [
    {
     "name": "stderr",
     "output_type": "stream",
     "text": [
      "C:\\Users\\User\\miniconda3\\envs\\py36\\lib\\site-packages\\ipykernel_launcher.py:3: RuntimeWarning: invalid value encountered in true_divide\n",
      "  This is separate from the ipykernel package so we can avoid doing imports until\n",
      "C:\\Users\\User\\miniconda3\\envs\\py36\\lib\\site-packages\\ipykernel_launcher.py:14: RuntimeWarning: invalid value encountered in true_divide\n",
      "  \n"
     ]
    },
    {
     "data": {
      "text/plain": [
       "array([[2.60394488, 2.52142328, 2.53811983, ..., 2.55      , 2.55      ,\n",
       "        2.55      ],\n",
       "       [3.51715353, 3.4744639 , 3.4901902 , ..., 3.48684211, 3.48684211,\n",
       "        3.48684211],\n",
       "       [3.56477871, 3.56355235, 3.55132752, ..., 3.56862745, 3.56862745,\n",
       "        3.56862745],\n",
       "       ...,\n",
       "       [3.93543738, 3.86472265, 3.83789392, ..., 3.86637931, 3.86637931,\n",
       "        3.86637931],\n",
       "       [3.86998992, 3.73762887, 3.72502154, ..., 3.75555556, 3.75555556,\n",
       "        3.75555556],\n",
       "       [3.79613736, 3.6997219 , 3.66718739, ..., 3.69565217, 3.69565217,\n",
       "        3.69565217]])"
      ]
     },
     "execution_count": 99,
     "metadata": {},
     "output_type": "execute_result"
    }
   ],
   "source": [
    "def compute_ucf(user2movie, similarity_matrix):\n",
    "    #yk\n",
    "    mean_ratings = np.sum(user2movie, axis = 1) / (user2movie !=0).sum(axis =1)\n",
    "    \n",
    "    #ykj - yk, user2movie: (num_users, num_movies), mean_ratings: (num_users) -> (num_users, 1)\n",
    "    user2movie_diff = user2movie - np.expand_dims(mean_ratings, axis =1)\n",
    "    \n",
    "    sim_sum = np.sum(np.abs(similarity_matrix), axis =1)\n",
    "    \n",
    "    user2movie_diff[user2movie == 0] = 0\n",
    "    \n",
    "    #similarity_matrix: (num_users, num_users), user2movie_diff: (num_users, num_movies)\n",
    "    # -> (num_users, num_movies), sim_sum: (num_users) -> (num_users, 1)\n",
    "    weighted_sum = np.matmul(similarity_matrix, user2movie_diff) / np.expand_dims(sim_sum, axis=1)\n",
    "    \n",
    "    #weighted_sum: (num_users, num_movies), mean_ratings: (num_users)\n",
    "    scores = weighted_sum + np.expand_dims(mean_ratings, axis=1)\n",
    "    \n",
    "    return scores\n",
    "\n",
    "predictions = compute_ucf(user2movie, similarity_matrix)\n",
    "predictions[:10]\n",
    "    "
   ]
  },
  {
   "cell_type": "markdown",
   "metadata": {},
   "source": [
    "算出DCG才可實做NDCG衡量"
   ]
  },
  {
   "cell_type": "code",
   "execution_count": 100,
   "metadata": {},
   "outputs": [],
   "source": [
    "def dcg_at_k(r,k):\n",
    "    r= r[:k]\n",
    "    dcg = np.sum(r / np.log2(np.arange(2, len(r) + 2)))\n",
    "    \n",
    "    return dcg"
   ]
  },
  {
   "cell_type": "markdown",
   "metadata": {},
   "source": [
    "reverse= True由大到小"
   ]
  },
  {
   "cell_type": "code",
   "execution_count": 101,
   "metadata": {},
   "outputs": [],
   "source": [
    "def ndcg_at_k(r,k):\n",
    "    dcg_max = dcg_at_k(sorted(r, reverse= True),k)\n",
    "    \n",
    "    return dcg_at_k(r,k) / dcg_max"
   ]
  },
  {
   "cell_type": "code",
   "execution_count": 102,
   "metadata": {},
   "outputs": [
    {
     "data": {
      "text/plain": [
       "0.8326360059603118"
      ]
     },
     "execution_count": 102,
     "metadata": {},
     "output_type": "execute_result"
    }
   ],
   "source": [
    "def evaluate_prediction(predictions):\n",
    "    \n",
    "    ndcgs = []\n",
    "    \n",
    "    for target_user in np.unique(val_user_ids):\n",
    "        \n",
    "        target_val_movie_ids = val_movie_ids[val_user_ids == target_user]\n",
    "        target_val_ratings = val_ratings[val_user_ids == target_user]\n",
    "        \n",
    "        ndcg = ndcg_at_k(target_val_ratings[np.argsort(-predictions[target_user][target_val_movie_ids])], k=30)\n",
    "        ndcgs.append(ndcg)\n",
    "    ndcg = np.mean(ndcgs)\n",
    "    return ndcg\n",
    "evaluate_prediction(predictions)"
   ]
  },
  {
   "cell_type": "markdown",
   "metadata": {},
   "source": [
    "基於物品協同過濾"
   ]
  },
  {
   "cell_type": "code",
   "execution_count": 103,
   "metadata": {},
   "outputs": [
    {
     "name": "stderr",
     "output_type": "stream",
     "text": [
      "C:\\Users\\User\\miniconda3\\envs\\py36\\lib\\site-packages\\ipykernel_launcher.py:3: RuntimeWarning: invalid value encountered in true_divide\n",
      "  This is separate from the ipykernel package so we can avoid doing imports until\n",
      "C:\\Users\\User\\miniconda3\\envs\\py36\\lib\\site-packages\\ipykernel_launcher.py:12: RuntimeWarning: invalid value encountered in true_divide\n",
      "  if sys.path[0] == '':\n"
     ]
    },
    {
     "data": {
      "text/plain": [
       "array([[ 1.        ,  0.32949699,  0.14883085, ...,         nan,\n",
       "                nan,         nan],\n",
       "       [ 0.32949699,  1.        ,  0.11771157, ...,         nan,\n",
       "                nan,         nan],\n",
       "       [ 0.14883085,  0.11771157,  1.        , ...,         nan,\n",
       "                nan,         nan],\n",
       "       ...,\n",
       "       [ 0.75689798,  0.79614979,  0.71287669, ...,         nan,\n",
       "                nan,         nan],\n",
       "       [-0.21912884,  0.5874723 ,  0.34578862, ...,         nan,\n",
       "                nan,         nan],\n",
       "       [ 0.02433877,  0.43192313, -0.08695837, ...,         nan,\n",
       "                nan,         nan]])"
      ]
     },
     "execution_count": 103,
     "metadata": {},
     "output_type": "execute_result"
    }
   ],
   "source": [
    "def compute_item_similarity_matrix(user2movie):\n",
    "    \n",
    "    x_mean = user2movie.sum(axis=0) / (user2movie !=0).sum(axis=0)\n",
    "    \n",
    "    filt = user2movie == 0\n",
    "    rating_diff = user2movie - np.expand_dims(x_mean, axis =0)\n",
    "    \n",
    "    rating_diff[filt] =0\n",
    "    \n",
    "    #(num_movies, num_movies)\n",
    "    corr = np.matmul(rating_diff.T, rating_diff) / \\\n",
    "    (np.matmul(rating_diff.T **2, (rating_diff !=0)) * np.matmul(rating_diff.T **2, (rating_diff !=0)).T) ** 0.5\n",
    "    \n",
    "    return corr\n",
    "similarity_matrix = compute_item_similarity_matrix(user2movie)\n",
    "similarity_matrix[:10]"
   ]
  },
  {
   "cell_type": "code",
   "execution_count": 104,
   "metadata": {},
   "outputs": [
    {
     "data": {
      "text/plain": [
       "array([[ 0.        ,  0.32949699,  0.14883085, ...,  0.        ,\n",
       "         0.        ,  0.        ],\n",
       "       [ 0.32949699,  0.        ,  0.11771157, ...,  0.        ,\n",
       "         0.        ,  0.        ],\n",
       "       [ 0.14883085,  0.11771157,  0.        , ...,  0.        ,\n",
       "         0.        ,  0.        ],\n",
       "       ...,\n",
       "       [ 0.75689798,  0.79614979,  0.71287669, ...,  0.        ,\n",
       "         0.        ,  0.        ],\n",
       "       [-0.21912884,  0.5874723 ,  0.34578862, ...,  0.        ,\n",
       "         0.        ,  0.        ],\n",
       "       [ 0.02433877,  0.43192313, -0.08695837, ...,  0.        ,\n",
       "         0.        ,  0.        ]])"
      ]
     },
     "execution_count": 104,
     "metadata": {},
     "output_type": "execute_result"
    }
   ],
   "source": [
    "similarity_matrix[np.arange(num_movies), np.arange(num_movies)] = 0\n",
    "similarity_matrix[np.isnan(similarity_matrix)] =0\n",
    "similarity_matrix[:10]"
   ]
  },
  {
   "cell_type": "code",
   "execution_count": 105,
   "metadata": {},
   "outputs": [
    {
     "name": "stderr",
     "output_type": "stream",
     "text": [
      "C:\\Users\\User\\miniconda3\\envs\\py36\\lib\\site-packages\\ipykernel_launcher.py:4: RuntimeWarning: invalid value encountered in true_divide\n",
      "  after removing the cwd from sys.path.\n",
      "C:\\Users\\User\\miniconda3\\envs\\py36\\lib\\site-packages\\ipykernel_launcher.py:15: RuntimeWarning: invalid value encountered in true_divide\n",
      "  from ipykernel import kernelapp as app\n"
     ]
    },
    {
     "data": {
      "text/plain": [
       "array([[3.91995938, 3.36217492, 3.19289318, ...,        nan,        nan,\n",
       "               nan],\n",
       "       [3.92128976, 3.3640285 , 3.19388683, ...,        nan,        nan,\n",
       "               nan],\n",
       "       [3.91963665, 3.36367295, 3.19216674, ...,        nan,        nan,\n",
       "               nan],\n",
       "       ...,\n",
       "       [3.92075554, 3.36605949, 3.1937442 , ...,        nan,        nan,\n",
       "               nan],\n",
       "       [3.92067407, 3.36313627, 3.1926433 , ...,        nan,        nan,\n",
       "               nan],\n",
       "       [3.92048034, 3.36408442, 3.19267732, ...,        nan,        nan,\n",
       "               nan]])"
      ]
     },
     "execution_count": 105,
     "metadata": {},
     "output_type": "execute_result"
    }
   ],
   "source": [
    "def compute_icf(user2movie, similarity_matrix):\n",
    "    \n",
    "    #yk\n",
    "    mean_ratings = np.sum(user2movie, axis = 0) / (user2movie !=0).sum(axis =0)\n",
    "    \n",
    "    #ykj - yk, user2movie: (num_users, num_movies), mean_ratings: (num_users) -> (num_users, 1)\n",
    "    user2movie_diff = user2movie - np.expand_dims(mean_ratings, axis =0)\n",
    "    \n",
    "    sim_sum = np.sum(np.abs(similarity_matrix), axis =1)\n",
    "    \n",
    "    user2movie_diff[user2movie == 0] = 0\n",
    "    \n",
    "    #similarity_matrix: (num_movies, num_movies), user2movie_diff: (num_movies, num_users)\n",
    "    # -> (num_users, num_movies), sim_sum: (num_users) -> (num_users, 1)\n",
    "    weighted_sum = np.matmul(user2movie_diff, similarity_matrix) / np.expand_dims(sim_sum, axis=0)\n",
    "    \n",
    "    #weighted_sum: (num_users, num_movies), mean_ratings: (num_users)\n",
    "    scores = weighted_sum + np.expand_dims(mean_ratings, axis=0)\n",
    "    \n",
    "    return scores\n",
    "\n",
    "predictions = compute_icf(user2movie, similarity_matrix)\n",
    "predictions[:10]"
   ]
  },
  {
   "cell_type": "code",
   "execution_count": 106,
   "metadata": {},
   "outputs": [
    {
     "data": {
      "text/plain": [
       "0.872177812234131"
      ]
     },
     "execution_count": 106,
     "metadata": {},
     "output_type": "execute_result"
    }
   ],
   "source": [
    "evaluate_prediction(predictions)"
   ]
  },
  {
   "cell_type": "code",
   "execution_count": null,
   "metadata": {},
   "outputs": [],
   "source": []
  }
 ],
 "metadata": {
  "kernelspec": {
   "display_name": "Python 3",
   "language": "python",
   "name": "python3"
  },
  "language_info": {
   "codemirror_mode": {
    "name": "ipython",
    "version": 3
   },
   "file_extension": ".py",
   "mimetype": "text/x-python",
   "name": "python",
   "nbconvert_exporter": "python",
   "pygments_lexer": "ipython3",
   "version": "3.6.10"
  }
 },
 "nbformat": 4,
 "nbformat_minor": 4
}
